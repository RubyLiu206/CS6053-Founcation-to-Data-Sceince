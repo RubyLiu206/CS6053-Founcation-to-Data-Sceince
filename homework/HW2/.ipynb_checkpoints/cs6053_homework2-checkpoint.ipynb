{
 "cells": [
  {
   "cell_type": "markdown",
   "metadata": {},
   "source": [
    "# Foundations of Data Science\n",
    "## Homework 2"
   ]
  },
  {
   "cell_type": "markdown",
   "metadata": {},
   "source": [
    "Student Name: Xiaoxuan Liu\n",
    "\n",
    "Student Netid: xl2590\n",
    "***"
   ]
  },
  {
   "cell_type": "markdown",
   "metadata": {},
   "source": [
    "### Part 1: Case study (5 Points)\n",
    "- Read [this article](http://www.nytimes.com/2012/02/19/magazine/shopping-habits.html) in the New York Times.\n",
    "- Use what we've learned in class and from the book to describe how one could set Target's problem up as a predictive modeling problem, such that they could have gotten the results that they did.  Formulate your solution as a proposed plan using our data science terminology.  Include aspects of the Data Science Workflow that you see as relevant to solving the problem.  Be precise but concise."
   ]
  },
  {
   "cell_type": "markdown",
   "metadata": {},
   "source": [
    "First the Target question is: “If we wanted to figure out if a customer is pregnant, even if she didn’t want us to know, can you do that? ”\n",
    "So the predictive modeling is in the Target's problem set to identify wether the woman is pregnant so that they can draw them to Target through some offers.\n",
    "Data Collected : The data analysis process contains: unkown target function, training example, hypothesis set, after those, they can have a learning algorithm and when they encounter error, analysis that and then they get the final hypothsis. For Target case, the data partten which collected by Target have vast amount of data for each people through different means like advertisements. And they also have the detail information for each guest( which contains the age, where you live, salary...) and assign each customer a unique id using which they can trace customers purchase history. Data is therefore collected from various sources. After filtering so that we can ensure there are no duplicate values in the dataset. \n",
    "Machine Learning Model : because the target is the customer would be pregnant or not, so the dataset would be binary.And using supervised learning for this problem.The dataset will have to be divided into training, validation and testing data. Because we have several different features which can also help to increase the model accuracy."
   ]
  },
  {
   "cell_type": "markdown",
   "metadata": {},
   "source": [
    "### Part 2: Exploring data in the command line (4 Points - 1 Point Each)\n",
    "For this part we will be using the data file located in `\"data/loansData.csv\"`. This file consists of records that pertain to some loan records in a local bank. There are 15 comma separated columns in this order: \n",
    "\n",
    "`CustNUm`, `Amount.Requested`,\t`Amount.Funded.By.Investors`,\t`Interest.Rate`,\t`Loan.Length`,\t`Loan.Purpose`,\t`Debt.To.Income.Ratio`,\t`State`,\t`Home.Ownership`,\t`Monthly.Income`,\t`FICO.Range`,\t`Open.CREDIT.Lines`,\t`Revolving.CREDIT.Balance`,\t`Inquiries.in.the.Last.6.Months`, and\t`Employment.Length`. \n",
    "\n",
    "These fields contain data of type `int`, `float`, and `string`, and you can also locate a file `\"data/loansData_columns.csv\"`in the data folder containing all the column names for easy reference.  Answer the following questions using Linux/Unix bash commands. All questions can be answered in one line (sometimes, with pipes)! Some questions will have many possible solutions. Don't forget that in iPython notebooks you must prefix all bash commands with an exclamation point, i.e. `\"!command arguments\"`."
   ]
  },
  {
   "cell_type": "markdown",
   "metadata": {},
   "source": [
    "1\\. How many records (lines) are in this file?"
   ]
  },
  {
   "cell_type": "code",
   "execution_count": 1,
   "metadata": {},
   "outputs": [
    {
     "name": "stderr",
     "output_type": "stream",
     "text": [
      "'wc' is not recognized as an internal or external command,\n",
      "operable program or batch file.\n"
     ]
    }
   ],
   "source": [
    "# Place your code here\n",
    "!wc -l data/loansData.csv\n",
    "#2499 data/loansData.csv"
   ]
  },
  {
   "cell_type": "markdown",
   "metadata": {},
   "source": [
    "2\\. How many unique `State` (the 8th field) are in this file? (hint: consider the 'cut' command and use pipe operator '|')"
   ]
  },
  {
   "cell_type": "code",
   "execution_count": null,
   "metadata": {
    "collapsed": true
   },
   "outputs": [],
   "source": [
    "# Place your code here\n",
    "!cut data/loansData.csv -d ',' -f 8 | sort | uniq | wc -l\n",
    "#46"
   ]
  },
  {
   "cell_type": "markdown",
   "metadata": {},
   "source": [
    "3\\. Rank all domains by the number of `Loan.Purpose` (the 6th field) they requested in descending order. (hint: consider the 'cut', 'uniq' and 'sort' commands and the pipe operator)."
   ]
  },
  {
   "cell_type": "code",
   "execution_count": null,
   "metadata": {
    "collapsed": true
   },
   "outputs": [],
   "source": [
    "# Place your code here\n",
    "!cut -d ',' -f 6 data/loansData.csv | uniq -c | sort -r\n"
   ]
  },
  {
   "cell_type": "markdown",
   "metadata": {},
   "source": [
    "4\\. List all records which have `FICO.Range` (the 11th field) from 815-819. (hint: this can be done using 'grep')"
   ]
  },
  {
   "cell_type": "code",
   "execution_count": null,
   "metadata": {
    "collapsed": true
   },
   "outputs": [],
   "source": [
    "# Place your code here\n",
    "！grep \"815-819\" data/loansData.csv\n",
    "#64884,9000,9000,6.03%,36 months,vacation,5.58%,NJ,MORTGAGE,9583.33,815-819,11,675,0,n/a\n",
    "#55501,8000,8000,6.03%,36 months,debt_consolidation,4.51%,OR,MORTGAGE,3500,815-819,9,6737,0,10+ years\n",
    "#93374,16500,16500,6.03%,36 months,debt_consolidation,22.65%,CA,MORTGAGE,5416.67,815-819,17,14835,0,10+ years\n",
    "#90568,4800,4800,6.62%,36 months,car,10.42%,TX,MORTGAGE,7291.67,815-819,14,0,0,< 1 year\n",
    "#80302,16800,16800,7.90%,60 months,debt_consolidation,3.34%,FL,MORTGAGE,10666.67,815-819,7,4757,0,10+ years\n",
    "#5906,12800,12787.71,8.94%,36 months,debt_consolidation,0.18%,AZ,MORTGAGE,2833.33,815-819,7,306,0,4 years\n",
    "\n"
   ]
  },
  {
   "cell_type": "markdown",
   "metadata": {},
   "source": [
    "### Part 3: Dealing with data Pythonically (16 Points)"
   ]
  },
  {
   "cell_type": "code",
   "execution_count": 1,
   "metadata": {},
   "outputs": [],
   "source": [
    "# You might find these packages useful. You may import any others you want!\n",
    "import pandas as pd\n",
    "import numpy as np\n",
    "import matplotlib.pyplot as plt\n",
    "import timeit"
   ]
  },
  {
   "cell_type": "markdown",
   "metadata": {},
   "source": [
    "1\\. (1 Point) Load the data set `\"data/ads_dataset.tsv\"` and load it into a Python Pandas data frame called `ads`."
   ]
  },
  {
   "cell_type": "code",
   "execution_count": 2,
   "metadata": {},
   "outputs": [],
   "source": [
    "# Place your code here\n",
    "import numpy as np\n",
    "import pandas as pd\n",
    "ads = pd.read_csv('data/ads_dataset.tsv',sep = '\\t',encoding='utf-8')\n"
   ]
  },
  {
   "cell_type": "markdown",
   "metadata": {},
   "source": [
    "2\\. (4 Points) Write a Python function called `getDfSummary()` that does the following:\n",
    "- Takes as input a data frame\n",
    "- For each variable in the data frame calculates the following features:\n",
    "  - `number_nan` to count the number of missing not-a-number values\n",
    "  - Ignoring missing, NA, and Null values:\n",
    "    - `number_distinct` to count the number of distinct values a variable can take on\n",
    "    - `mean`, `max`, `min`, `std` (standard deviation), and `25%`, `50%`, `75%` to correspond to the appropriate percentiles\n",
    "- All of these new features should be loaded in a new data frame. Each row of the data frame should be a variable from the input data frame, and the columns should be the new summary features.\n",
    "- Returns this new data frame containing all of the summary information\n",
    "\n",
    "Hint: The pandas `describe()` [(manual page)](http://pandas.pydata.org/pandas-docs/stable/generated/pandas.DataFrame.describe.html) method returns a useful series of values that can be used here."
   ]
  },
  {
   "cell_type": "code",
   "execution_count": 3,
   "metadata": {},
   "outputs": [
    {
     "data": {
      "text/html": [
       "<div>\n",
       "<style scoped>\n",
       "    .dataframe tbody tr th:only-of-type {\n",
       "        vertical-align: middle;\n",
       "    }\n",
       "\n",
       "    .dataframe tbody tr th {\n",
       "        vertical-align: top;\n",
       "    }\n",
       "\n",
       "    .dataframe thead th {\n",
       "        text-align: right;\n",
       "    }\n",
       "</style>\n",
       "<table border=\"1\" class=\"dataframe\">\n",
       "  <thead>\n",
       "    <tr style=\"text-align: right;\">\n",
       "      <th></th>\n",
       "      <th>Number_NaN</th>\n",
       "      <th>Number_Distinct</th>\n",
       "      <th>Mean</th>\n",
       "      <th>Max</th>\n",
       "      <th>Min</th>\n",
       "      <th>Std</th>\n",
       "      <th>25%</th>\n",
       "      <th>50%</th>\n",
       "      <th>75%</th>\n",
       "    </tr>\n",
       "  </thead>\n",
       "  <tbody>\n",
       "    <tr>\n",
       "      <th>is_video_user</th>\n",
       "      <td>0</td>\n",
       "      <td>2</td>\n",
       "      <td>0.042632</td>\n",
       "      <td>1.00000</td>\n",
       "      <td>0.0000</td>\n",
       "      <td>0.202027</td>\n",
       "      <td>0.0</td>\n",
       "      <td>0.0</td>\n",
       "      <td>0.000000</td>\n",
       "    </tr>\n",
       "    <tr>\n",
       "      <th>video_freq</th>\n",
       "      <td>52257</td>\n",
       "      <td>10</td>\n",
       "      <td>1.240653</td>\n",
       "      <td>15.00000</td>\n",
       "      <td>1.0000</td>\n",
       "      <td>0.782228</td>\n",
       "      <td>1.0</td>\n",
       "      <td>1.0</td>\n",
       "      <td>1.000000</td>\n",
       "    </tr>\n",
       "    <tr>\n",
       "      <th>call_freq</th>\n",
       "      <td>0</td>\n",
       "      <td>64</td>\n",
       "      <td>1.852777</td>\n",
       "      <td>84.00000</td>\n",
       "      <td>0.0000</td>\n",
       "      <td>2.921820</td>\n",
       "      <td>1.0</td>\n",
       "      <td>1.0</td>\n",
       "      <td>2.000000</td>\n",
       "    </tr>\n",
       "    <tr>\n",
       "      <th>video_interval</th>\n",
       "      <td>0</td>\n",
       "      <td>121</td>\n",
       "      <td>2.570533</td>\n",
       "      <td>120.00000</td>\n",
       "      <td>0.0000</td>\n",
       "      <td>14.162418</td>\n",
       "      <td>0.0</td>\n",
       "      <td>0.0</td>\n",
       "      <td>0.000000</td>\n",
       "    </tr>\n",
       "    <tr>\n",
       "      <th>call_interval</th>\n",
       "      <td>0</td>\n",
       "      <td>5886</td>\n",
       "      <td>5.825610</td>\n",
       "      <td>184.91670</td>\n",
       "      <td>0.0000</td>\n",
       "      <td>17.595442</td>\n",
       "      <td>0.0</td>\n",
       "      <td>0.0</td>\n",
       "      <td>0.104167</td>\n",
       "    </tr>\n",
       "    <tr>\n",
       "      <th>expected_video_time</th>\n",
       "      <td>0</td>\n",
       "      <td>134</td>\n",
       "      <td>-0.494174</td>\n",
       "      <td>55.00000</td>\n",
       "      <td>-78.0000</td>\n",
       "      <td>8.411089</td>\n",
       "      <td>0.0</td>\n",
       "      <td>0.0</td>\n",
       "      <td>0.000000</td>\n",
       "    </tr>\n",
       "    <tr>\n",
       "      <th>expected_call_time</th>\n",
       "      <td>0</td>\n",
       "      <td>15135</td>\n",
       "      <td>-10.210786</td>\n",
       "      <td>91.40192</td>\n",
       "      <td>-187.6156</td>\n",
       "      <td>31.879722</td>\n",
       "      <td>0.0</td>\n",
       "      <td>0.0</td>\n",
       "      <td>0.000000</td>\n",
       "    </tr>\n",
       "    <tr>\n",
       "      <th>last_bill</th>\n",
       "      <td>0</td>\n",
       "      <td>189</td>\n",
       "      <td>64.729335</td>\n",
       "      <td>188.00000</td>\n",
       "      <td>0.0000</td>\n",
       "      <td>53.476658</td>\n",
       "      <td>18.0</td>\n",
       "      <td>51.0</td>\n",
       "      <td>105.000000</td>\n",
       "    </tr>\n",
       "    <tr>\n",
       "      <th>next_bill</th>\n",
       "      <td>0</td>\n",
       "      <td>189</td>\n",
       "      <td>64.729335</td>\n",
       "      <td>188.00000</td>\n",
       "      <td>0.0000</td>\n",
       "      <td>53.476658</td>\n",
       "      <td>18.0</td>\n",
       "      <td>51.0</td>\n",
       "      <td>105.000000</td>\n",
       "    </tr>\n",
       "    <tr>\n",
       "      <th>multiple_video</th>\n",
       "      <td>0</td>\n",
       "      <td>2</td>\n",
       "      <td>0.021563</td>\n",
       "      <td>1.00000</td>\n",
       "      <td>0.0000</td>\n",
       "      <td>0.145253</td>\n",
       "      <td>0.0</td>\n",
       "      <td>0.0</td>\n",
       "      <td>0.000000</td>\n",
       "    </tr>\n",
       "    <tr>\n",
       "      <th>multiple_carrier</th>\n",
       "      <td>0</td>\n",
       "      <td>2</td>\n",
       "      <td>0.277444</td>\n",
       "      <td>1.00000</td>\n",
       "      <td>0.0000</td>\n",
       "      <td>0.447742</td>\n",
       "      <td>0.0</td>\n",
       "      <td>0.0</td>\n",
       "      <td>1.000000</td>\n",
       "    </tr>\n",
       "    <tr>\n",
       "      <th>uniq_urls</th>\n",
       "      <td>0</td>\n",
       "      <td>207</td>\n",
       "      <td>86.569343</td>\n",
       "      <td>206.00000</td>\n",
       "      <td>-1.0000</td>\n",
       "      <td>61.969765</td>\n",
       "      <td>30.0</td>\n",
       "      <td>75.0</td>\n",
       "      <td>155.000000</td>\n",
       "    </tr>\n",
       "    <tr>\n",
       "      <th>num_texts</th>\n",
       "      <td>0</td>\n",
       "      <td>4628</td>\n",
       "      <td>720.657592</td>\n",
       "      <td>37091.00000</td>\n",
       "      <td>1.0000</td>\n",
       "      <td>1275.727306</td>\n",
       "      <td>127.0</td>\n",
       "      <td>319.0</td>\n",
       "      <td>802.000000</td>\n",
       "    </tr>\n",
       "    <tr>\n",
       "      <th>is_churn</th>\n",
       "      <td>0</td>\n",
       "      <td>2</td>\n",
       "      <td>0.004635</td>\n",
       "      <td>1.00000</td>\n",
       "      <td>0.0000</td>\n",
       "      <td>0.067924</td>\n",
       "      <td>0.0</td>\n",
       "      <td>0.0</td>\n",
       "      <td>0.000000</td>\n",
       "    </tr>\n",
       "  </tbody>\n",
       "</table>\n",
       "</div>"
      ],
      "text/plain": [
       "                     Number_NaN  Number_Distinct        Mean          Max  \\\n",
       "is_video_user                 0                2    0.042632      1.00000   \n",
       "video_freq                52257               10    1.240653     15.00000   \n",
       "call_freq                     0               64    1.852777     84.00000   \n",
       "video_interval                0              121    2.570533    120.00000   \n",
       "call_interval                 0             5886    5.825610    184.91670   \n",
       "expected_video_time           0              134   -0.494174     55.00000   \n",
       "expected_call_time            0            15135  -10.210786     91.40192   \n",
       "last_bill                     0              189   64.729335    188.00000   \n",
       "next_bill                     0              189   64.729335    188.00000   \n",
       "multiple_video                0                2    0.021563      1.00000   \n",
       "multiple_carrier              0                2    0.277444      1.00000   \n",
       "uniq_urls                     0              207   86.569343    206.00000   \n",
       "num_texts                     0             4628  720.657592  37091.00000   \n",
       "is_churn                      0                2    0.004635      1.00000   \n",
       "\n",
       "                          Min          Std    25%    50%         75%  \n",
       "is_video_user          0.0000     0.202027    0.0    0.0    0.000000  \n",
       "video_freq             1.0000     0.782228    1.0    1.0    1.000000  \n",
       "call_freq              0.0000     2.921820    1.0    1.0    2.000000  \n",
       "video_interval         0.0000    14.162418    0.0    0.0    0.000000  \n",
       "call_interval          0.0000    17.595442    0.0    0.0    0.104167  \n",
       "expected_video_time  -78.0000     8.411089    0.0    0.0    0.000000  \n",
       "expected_call_time  -187.6156    31.879722    0.0    0.0    0.000000  \n",
       "last_bill              0.0000    53.476658   18.0   51.0  105.000000  \n",
       "next_bill              0.0000    53.476658   18.0   51.0  105.000000  \n",
       "multiple_video         0.0000     0.145253    0.0    0.0    0.000000  \n",
       "multiple_carrier       0.0000     0.447742    0.0    0.0    1.000000  \n",
       "uniq_urls             -1.0000    61.969765   30.0   75.0  155.000000  \n",
       "num_texts              1.0000  1275.727306  127.0  319.0  802.000000  \n",
       "is_churn               0.0000     0.067924    0.0    0.0    0.000000  "
      ]
     },
     "execution_count": 3,
     "metadata": {},
     "output_type": "execute_result"
    }
   ],
   "source": [
    "def getDfSummary(input_data):\n",
    "    # Place your code here\n",
    "    # Place your code here\n",
    "    #new a new data frame\n",
    "    #for each variable compute the number_nan, num_distinct, mean, max, min, std\n",
    "    #put the input_data's column to the output_data's index\n",
    "    #put the new features to the output_data's columns\n",
    "    each_row = []\n",
    "    for feature in input_data:\n",
    "        num_nan = np.count_nonzero(input_data[feature].isnull())\n",
    "        num_distinct = input_data[feature].nunique()\n",
    "        des = input_data[feature].describe()[['mean','max','min','std','25%','50%','75%']].values.tolist()\n",
    "        each_row.append([num_nan,num_distinct]+des)\n",
    "    output_data = pd.DataFrame(each_row)\n",
    "    output_data.columns = ['Number_NaN','Number_Distinct','Mean','Max','Min','Std','25%','50%','75%']\n",
    "    output_data.index = [input_data.columns]\n",
    "    return output_data\n",
    "\n",
    "getDfSummary(ads)\n"
   ]
  },
  {
   "cell_type": "markdown",
   "metadata": {},
   "source": [
    "3\\. (1 Point) How long does it take for your `getDfSummary()` function to work on your `ads` data frame? Show us the results below.\n",
    "\n",
    "Hint: `%timeit getDfSummary(ads)`"
   ]
  },
  {
   "cell_type": "code",
   "execution_count": 7,
   "metadata": {},
   "outputs": [
    {
     "name": "stdout",
     "output_type": "stream",
     "text": [
      "10 loops, best of 3: 129 ms per loop\n"
     ]
    }
   ],
   "source": [
    "# Place your code here\n",
    "%timeit getDfSummary(ads)"
   ]
  },
  {
   "cell_type": "markdown",
   "metadata": {},
   "source": [
    "4\\. (2 Points) Using the results returned from `getDfSummary()`, which fields, if any, contain missing `NaN` values?"
   ]
  },
  {
   "cell_type": "code",
   "execution_count": 17,
   "metadata": {},
   "outputs": [
    {
     "name": "stdout",
     "output_type": "stream",
     "text": [
      "[(u'video_freq',)]\n"
     ]
    }
   ],
   "source": [
    "# Place your code here\n",
    "new_dataframe = getDfSummary(ads)\n",
    "contain_NaN = new_dataframe[new_dataframe.Number_NaN>0]\n",
    "print(contain_NaN._stat_axis.values.tolist())"
   ]
  },
  {
   "cell_type": "markdown",
   "metadata": {},
   "source": [
    "5\\. (4 Points) For the fields with missing values, does it look like the data is missing at random? Are there any other fields that correlate perfectly, or predict that the data is missing? If missing, what should the data value be?\n",
    "\n",
    "Hint: create another data frame that has just the records with a missing value. Get a summary of this data frame using `getDfSummary()` and compare the differences. Do some feature distributions change dramatically?"
   ]
  },
  {
   "cell_type": "code",
   "execution_count": 15,
   "metadata": {},
   "outputs": [
    {
     "name": "stdout",
     "output_type": "stream",
     "text": [
      "                     Number_NaN  Number_Distinct        Mean          Max  \\\n",
      "is_video_user                 0                1    0.000000      0.00000   \n",
      "video_freq                52257                0         NaN          NaN   \n",
      "call_freq                     0               48    1.651549     84.00000   \n",
      "video_interval                0                1    0.000000      0.00000   \n",
      "call_interval                 0             5112    5.686388    184.91670   \n",
      "expected_video_time           0                1    0.000000      0.00000   \n",
      "expected_call_time            0            13351   -9.669298     91.40192   \n",
      "last_bill                     0              189   65.741317    188.00000   \n",
      "next_bill                     0              189   65.741317    188.00000   \n",
      "multiple_video                0                1    0.000000      0.00000   \n",
      "multiple_carrier              0                2    0.255602      1.00000   \n",
      "uniq_urls                     0              207   86.656180    206.00000   \n",
      "num_texts                     0             4570  721.848518  37091.00000   \n",
      "is_churn                      0                2    0.003024      1.00000   \n",
      "\n",
      "                          Min          Std    25%    50%         75%  \n",
      "is_video_user          0.0000     0.000000    0.0    0.0    0.000000  \n",
      "video_freq                NaN          NaN    NaN    NaN         NaN  \n",
      "call_freq              1.0000     2.147955    1.0    1.0    2.000000  \n",
      "video_interval         0.0000     0.000000    0.0    0.0    0.000000  \n",
      "call_interval          0.0000    17.623555    0.0    0.0    0.041667  \n",
      "expected_video_time    0.0000     0.000000    0.0    0.0    0.000000  \n",
      "expected_call_time  -187.6156    31.239030    0.0    0.0    0.000000  \n",
      "last_bill              0.0000    53.484622   19.0   52.0  106.000000  \n",
      "next_bill              0.0000    53.484622   19.0   52.0  106.000000  \n",
      "multiple_video         0.0000     0.000000    0.0    0.0    0.000000  \n",
      "multiple_carrier       0.0000     0.436203    0.0    0.0    1.000000  \n",
      "uniq_urls             -1.0000    61.996711   30.0   75.0  155.000000  \n",
      "num_texts              1.0000  1284.504018  126.0  318.0  803.000000  \n",
      "is_churn               0.0000     0.054904    0.0    0.0    0.000000  \n",
      "                     Number_NaN  Number_Distinct        Mean          Max  \\\n",
      "is_video_user                 0                2    0.042632      1.00000   \n",
      "video_freq                52257               10    1.240653     15.00000   \n",
      "call_freq                     0               64    1.852777     84.00000   \n",
      "video_interval                0              121    2.570533    120.00000   \n",
      "call_interval                 0             5886    5.825610    184.91670   \n",
      "expected_video_time           0              134   -0.494174     55.00000   \n",
      "expected_call_time            0            15135  -10.210786     91.40192   \n",
      "last_bill                     0              189   64.729335    188.00000   \n",
      "next_bill                     0              189   64.729335    188.00000   \n",
      "multiple_video                0                2    0.021563      1.00000   \n",
      "multiple_carrier              0                2    0.277444      1.00000   \n",
      "uniq_urls                     0              207   86.569343    206.00000   \n",
      "num_texts                     0             4628  720.657592  37091.00000   \n",
      "is_churn                      0                2    0.004635      1.00000   \n",
      "\n",
      "                          Min          Std    25%    50%         75%  \n",
      "is_video_user          0.0000     0.202027    0.0    0.0    0.000000  \n",
      "video_freq             1.0000     0.782228    1.0    1.0    1.000000  \n",
      "call_freq              0.0000     2.921820    1.0    1.0    2.000000  \n",
      "video_interval         0.0000    14.162418    0.0    0.0    0.000000  \n",
      "call_interval          0.0000    17.595442    0.0    0.0    0.104167  \n",
      "expected_video_time  -78.0000     8.411089    0.0    0.0    0.000000  \n",
      "expected_call_time  -187.6156    31.879722    0.0    0.0    0.000000  \n",
      "last_bill              0.0000    53.476658   18.0   51.0  105.000000  \n",
      "next_bill              0.0000    53.476658   18.0   51.0  105.000000  \n",
      "multiple_video         0.0000     0.145253    0.0    0.0    0.000000  \n",
      "multiple_carrier       0.0000     0.447742    0.0    0.0    1.000000  \n",
      "uniq_urls             -1.0000    61.969765   30.0   75.0  155.000000  \n",
      "num_texts              1.0000  1275.727306  127.0  319.0  802.000000  \n",
      "is_churn               0.0000     0.067924    0.0    0.0    0.000000  \n"
     ]
    }
   ],
   "source": [
    "\n",
    "# seeing the dataset we can find that the Nan values always happen in [video_freq]\n",
    "# try to contain all the variance with the nan data\n",
    "dataframe_only_with_nan = ads[ads[\"video_freq\"].isnull()]\n",
    "#Then use the getDfSummary to analysis the new dataframe\n",
    "Summary_with_nan = getDfSummary(dataframe_only_with_nan)\n",
    "Summary_dataframe = getDfSummary(ads)\n",
    "print(Summary_with_nan)\n",
    "print(Summary_dataframe)\n",
    "# according to the staff we did before, we can conclude that [video_interval] always be 0 or bigger than 0, \n",
    "# and to look at the daraframe, when [video_interval] = 0, the [video_freq] = Nan\n",
    "# so the first thing want to try is to focus on the correlation between [video_interval] and [video_freq]\n",
    "# the function I choose is corr() from pandas\n",
    "\n",
    "correlation_between_video_interval_video_freq = ads.video_freq.corr(ads['video_interval'])\n",
    "correlation_between_expected_video_time_video_freq= ads.video_freq.corr(ads['expected_video_time'])\n",
    "# we can see the correlation between video_freq with expected_video_time\n",
    "\n",
    "\n",
    "# Conclusion :\n",
    "# So we can only look at the describle charts: [video_interval] this feature from 1 to 121 in number distinct, and [expected_video_time] also change from 1 to 134\n",
    "# if [video_interval] <= 0 and [expected_video_time] <= 0, then the [video_freq] = Nan\n",
    "\n"
   ]
  },
  {
   "cell_type": "markdown",
   "metadata": {},
   "source": [
    "6\\. (2 Points) Which variables are binary?"
   ]
  },
  {
   "cell_type": "code",
   "execution_count": 18,
   "metadata": {},
   "outputs": [
    {
     "name": "stdout",
     "output_type": "stream",
     "text": [
      "[(u'is_video_user',), (u'multiple_video',), (u'multiple_carrier',), (u'is_churn',)]\n"
     ]
    }
   ],
   "source": [
    "\n",
    "# Place your code here\n",
    "#number distinct equal to 2 maybe are binary\n",
    "# question: might be all 0 or all 1 and other might be 10, not binary\n",
    "new_dataframe = getDfSummary(ads)\n",
    "result_binary = new_dataframe[new_dataframe.Number_Distinct==2]\n",
    "print(result_binary._stat_axis.values.tolist())"
   ]
  },
  {
   "cell_type": "markdown",
   "metadata": {},
   "source": [
    "7\\. (0.5 Point) Let's take a deeper look into one of the features, the `num_texts`, which stands for the number of text messages. Let's try and understand the distribution of this field. We can do this using the hist() method and matplotlib. Draw a histogram graph of `num_texts` from the dataframe `ads`, set the title of the graph as `'Histogram of Number of Texts'`."
   ]
  },
  {
   "cell_type": "code",
   "execution_count": 19,
   "metadata": {},
   "outputs": [
    {
     "data": {
      "image/png": "[encoded data removed]",
      "text/plain": [
       "<Figure size 432x288 with 1 Axes>"
      ]
     },
     "metadata": {
      "needs_background": "light"
     },
     "output_type": "display_data"
    }
   ],
   "source": [
    "# Place your code here\n",
    "x = ads.num_texts\n",
    "plt.hist(x, bins = 100)\n",
    "plt.title('Histogram of Number of Texts')\n",
    "plt.show()"
   ]
  },
  {
   "cell_type": "markdown",
   "metadata": {},
   "source": [
    "8\\. (1.5 Point) How would you characterize the shape of this distribution? Is there anything we can do to the texts variable to make the distribution more bell curved? \n",
    "\n",
    "Hint: Let's create a new column in the dataframe called `'log_num_texts'` and print a histogram `'Histogram of Log(Num Texts)'` of it. What might be some advantages of making such a transformation?"
   ]
  },
  {
   "cell_type": "code",
   "execution_count": 20,
   "metadata": {},
   "outputs": [
    {
     "data": {
      "image/png": "[encoded data removed]",
      "text/plain": [
       "<Figure size 432x288 with 1 Axes>"
      ]
     },
     "metadata": {
      "needs_background": "light"
     },
     "output_type": "display_data"
    }
   ],
   "source": [
    "# guassion distribution, a bell-shaped frequency distribution curve. \n",
    "# to make the distribution more bell curved, at the mean range increase the num texts, to make standard deviation of the mean more higher.\n",
    "# the advantage is we can see the data distribute more easily with the guassion distribution.We can easily figure out the mean and median of the data distribution.\n",
    "\n",
    "ads_num_texts = np.array(ads[\"num_texts\"].values)\n",
    "#print(type(ads_num_texts))\n",
    "ads_num_texts = np.log(ads_num_texts)\n",
    "ads[\"log_num_texts\"] = pd.DataFrame(ads_num_texts)\n",
    "\n",
    "x_new = ads.log_num_texts\n",
    "plt.hist(x_new, bins=100)\n",
    "plt.title('Histogram of Number of Texts ( log )')\n",
    "plt.show()"
   ]
  },
  {
   "cell_type": "markdown",
   "metadata": {},
   "source": [
    "End of Homework2"
   ]
  }
 ],
 "metadata": {
  "anaconda-cloud": {},
  "kernelspec": {
   "display_name": "Python 2",
   "language": "python",
   "name": "python2"
  },
  "language_info": {
   "codemirror_mode": {
    "name": "ipython",
    "version": 2
   },
   "file_extension": ".py",
   "mimetype": "text/x-python",
   "name": "python",
   "nbconvert_exporter": "python",
   "pygments_lexer": "ipython2",
   "version": "2.7.16"
  }
 },
 "nbformat": 4,
 "nbformat_minor": 1
}
